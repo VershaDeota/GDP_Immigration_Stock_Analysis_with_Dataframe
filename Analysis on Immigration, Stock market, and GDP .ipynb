{
 "cells": [
  {
   "cell_type": "markdown",
   "metadata": {},
   "source": [
    "# Analysis on Immigration, Stock market, and GDP "
   ]
  },
  {
   "cell_type": "markdown",
   "metadata": {},
   "source": [
    "## Abstract"
   ]
  },
  {
   "cell_type": "markdown",
   "metadata": {},
   "source": [
    "The goal of this project is to use **Pandas Dataframe** for analyzing the Immigration, Stock Market data and GDP and to identify correlation between them"
   ]
  },
  {
   "cell_type": "markdown",
   "metadata": {},
   "source": [
    "#### To enable multiple output"
   ]
  },
  {
   "cell_type": "code",
   "execution_count": 1,
   "metadata": {},
   "outputs": [],
   "source": [
    "from IPython.core.interactiveshell import InteractiveShell\n",
    "InteractiveShell.ast_node_interactivity = \"all\""
   ]
  },
  {
   "cell_type": "markdown",
   "metadata": {},
   "source": [
    "#### Importing Packages"
   ]
  },
  {
   "cell_type": "markdown",
   "metadata": {},
   "source": [
    "Installed the **wbdata** package for API access to Worldbank data"
   ]
  },
  {
   "cell_type": "code",
   "execution_count": 2,
   "metadata": {},
   "outputs": [],
   "source": [
    "import wbdata #In order to get the Stock, GDP and Immigration data\n",
    "import pandas as pd"
   ]
  },
  {
   "cell_type": "markdown",
   "metadata": {},
   "source": [
    "## To get the data on GDP per capita growth (annual %) as a dataframe"
   ]
  },
  {
   "cell_type": "code",
   "execution_count": 3,
   "metadata": {},
   "outputs": [
    {
     "name": "stdout",
     "output_type": "stream",
     "text": [
      "NY.GDP.PCAP.KD.ZG\tGDP per capita growth (annual %)\n"
     ]
    }
   ],
   "source": [
    "wbdata.search_indicators(\"GDP per capita growth (annual %)\")"
   ]
  },
  {
   "cell_type": "code",
   "execution_count": 4,
   "metadata": {},
   "outputs": [],
   "source": [
    "indicators = {\"NY.GDP.PCAP.KD.ZG\": \"GDP per capita growth (annual %)\"}\n",
    "GDP_df = wbdata.get_dataframe(indicators, country=\"USA\", convert_date=True)"
   ]
  },
  {
   "cell_type": "markdown",
   "metadata": {},
   "source": [
    "#### Rounding off the GDP growth rate to two decimal places"
   ]
  },
  {
   "cell_type": "code",
   "execution_count": 5,
   "metadata": {},
   "outputs": [
    {
     "data": {
      "text/html": [
       "<div>\n",
       "<style scoped>\n",
       "    .dataframe tbody tr th:only-of-type {\n",
       "        vertical-align: middle;\n",
       "    }\n",
       "\n",
       "    .dataframe tbody tr th {\n",
       "        vertical-align: top;\n",
       "    }\n",
       "\n",
       "    .dataframe thead th {\n",
       "        text-align: right;\n",
       "    }\n",
       "</style>\n",
       "<table border=\"1\" class=\"dataframe\">\n",
       "  <thead>\n",
       "    <tr style=\"text-align: right;\">\n",
       "      <th></th>\n",
       "      <th>GDP per capita growth (annual %)</th>\n",
       "    </tr>\n",
       "    <tr>\n",
       "      <th>date</th>\n",
       "      <th></th>\n",
       "    </tr>\n",
       "  </thead>\n",
       "  <tbody>\n",
       "    <tr>\n",
       "      <th>2017-01-01</th>\n",
       "      <td>NaN</td>\n",
       "    </tr>\n",
       "    <tr>\n",
       "      <th>2016-01-01</th>\n",
       "      <td>0.78</td>\n",
       "    </tr>\n",
       "    <tr>\n",
       "      <th>2015-01-01</th>\n",
       "      <td>2.11</td>\n",
       "    </tr>\n",
       "    <tr>\n",
       "      <th>2014-01-01</th>\n",
       "      <td>1.61</td>\n",
       "    </tr>\n",
       "    <tr>\n",
       "      <th>2013-01-01</th>\n",
       "      <td>0.97</td>\n",
       "    </tr>\n",
       "  </tbody>\n",
       "</table>\n",
       "</div>"
      ],
      "text/plain": [
       "            GDP per capita growth (annual %)\n",
       "date                                        \n",
       "2017-01-01                               NaN\n",
       "2016-01-01                              0.78\n",
       "2015-01-01                              2.11\n",
       "2014-01-01                              1.61\n",
       "2013-01-01                              0.97"
      ]
     },
     "execution_count": 5,
     "metadata": {},
     "output_type": "execute_result"
    }
   ],
   "source": [
    "GDP_df=GDP_df.round(2)\n",
    "GDP_df.head()"
   ]
  },
  {
   "cell_type": "markdown",
   "metadata": {},
   "source": [
    "## To get the data on Net immigration as a dataframe(value in %)"
   ]
  },
  {
   "cell_type": "code",
   "execution_count": 6,
   "metadata": {},
   "outputs": [
    {
     "name": "stdout",
     "output_type": "stream",
     "text": [
      "SM.POP.NETM\tNet migration\n"
     ]
    }
   ],
   "source": [
    "wbdata.search_indicators(\"Net migration\")"
   ]
  },
  {
   "cell_type": "code",
   "execution_count": 7,
   "metadata": {},
   "outputs": [
    {
     "name": "stdout",
     "output_type": "stream",
     "text": [
      "SP.POP.TOTL\tPopulation, total\n"
     ]
    }
   ],
   "source": [
    "wbdata.search_indicators(\"Population, total\")"
   ]
  },
  {
   "cell_type": "code",
   "execution_count": 8,
   "metadata": {},
   "outputs": [],
   "source": [
    "indicators = {\"SP.POP.TOTL\": \"Total Population\",\"SM.POP.NETM\": \"Net migration\"}\n",
    "Pop_df = wbdata.get_dataframe(indicators, country=\"USA\", convert_date=True)\n",
    "Pop_df['Immigration_Rate_%'] = (Pop_df['Net migration']/Pop_df['Total Population'])*1000"
   ]
  },
  {
   "cell_type": "markdown",
   "metadata": {},
   "source": [
    "#### Rounding off the immigration rate to two decimal places"
   ]
  },
  {
   "cell_type": "code",
   "execution_count": 9,
   "metadata": {},
   "outputs": [
    {
     "data": {
      "text/html": [
       "<div>\n",
       "<style scoped>\n",
       "    .dataframe tbody tr th:only-of-type {\n",
       "        vertical-align: middle;\n",
       "    }\n",
       "\n",
       "    .dataframe tbody tr th {\n",
       "        vertical-align: top;\n",
       "    }\n",
       "\n",
       "    .dataframe thead th {\n",
       "        text-align: right;\n",
       "    }\n",
       "</style>\n",
       "<table border=\"1\" class=\"dataframe\">\n",
       "  <thead>\n",
       "    <tr style=\"text-align: right;\">\n",
       "      <th></th>\n",
       "      <th>Net migration</th>\n",
       "      <th>Total Population</th>\n",
       "      <th>Immigration_Rate_%</th>\n",
       "    </tr>\n",
       "    <tr>\n",
       "      <th>date</th>\n",
       "      <th></th>\n",
       "      <th></th>\n",
       "      <th></th>\n",
       "    </tr>\n",
       "  </thead>\n",
       "  <tbody>\n",
       "    <tr>\n",
       "      <th>2017-01-01</th>\n",
       "      <td>NaN</td>\n",
       "      <td>NaN</td>\n",
       "      <td>NaN</td>\n",
       "    </tr>\n",
       "    <tr>\n",
       "      <th>2016-01-01</th>\n",
       "      <td>NaN</td>\n",
       "      <td>323127513.0</td>\n",
       "      <td>NaN</td>\n",
       "    </tr>\n",
       "    <tr>\n",
       "      <th>2015-01-01</th>\n",
       "      <td>NaN</td>\n",
       "      <td>320896618.0</td>\n",
       "      <td>NaN</td>\n",
       "    </tr>\n",
       "    <tr>\n",
       "      <th>2014-01-01</th>\n",
       "      <td>NaN</td>\n",
       "      <td>318563456.0</td>\n",
       "      <td>NaN</td>\n",
       "    </tr>\n",
       "    <tr>\n",
       "      <th>2013-01-01</th>\n",
       "      <td>NaN</td>\n",
       "      <td>316204908.0</td>\n",
       "      <td>NaN</td>\n",
       "    </tr>\n",
       "    <tr>\n",
       "      <th>2012-01-01</th>\n",
       "      <td>4500000.0</td>\n",
       "      <td>313998379.0</td>\n",
       "      <td>14.33</td>\n",
       "    </tr>\n",
       "  </tbody>\n",
       "</table>\n",
       "</div>"
      ],
      "text/plain": [
       "            Net migration  Total Population  Immigration_Rate_%\n",
       "date                                                           \n",
       "2017-01-01            NaN               NaN                 NaN\n",
       "2016-01-01            NaN       323127513.0                 NaN\n",
       "2015-01-01            NaN       320896618.0                 NaN\n",
       "2014-01-01            NaN       318563456.0                 NaN\n",
       "2013-01-01            NaN       316204908.0                 NaN\n",
       "2012-01-01      4500000.0       313998379.0               14.33"
      ]
     },
     "execution_count": 9,
     "metadata": {},
     "output_type": "execute_result"
    }
   ],
   "source": [
    "Pop_df['Immigration_Rate_%']=Pop_df['Immigration_Rate_%'].round(2)\n",
    "Pop_df.head(6)"
   ]
  },
  {
   "cell_type": "markdown",
   "metadata": {},
   "source": [
    "### Cleaning the Immigration dataframe by dropping the unwanted columns and removing NaN values"
   ]
  },
  {
   "cell_type": "code",
   "execution_count": 10,
   "metadata": {},
   "outputs": [
    {
     "data": {
      "text/html": [
       "<div>\n",
       "<style scoped>\n",
       "    .dataframe tbody tr th:only-of-type {\n",
       "        vertical-align: middle;\n",
       "    }\n",
       "\n",
       "    .dataframe tbody tr th {\n",
       "        vertical-align: top;\n",
       "    }\n",
       "\n",
       "    .dataframe thead th {\n",
       "        text-align: right;\n",
       "    }\n",
       "</style>\n",
       "<table border=\"1\" class=\"dataframe\">\n",
       "  <thead>\n",
       "    <tr style=\"text-align: right;\">\n",
       "      <th></th>\n",
       "      <th>Immigration_Rate_%</th>\n",
       "    </tr>\n",
       "    <tr>\n",
       "      <th>date</th>\n",
       "      <th></th>\n",
       "    </tr>\n",
       "  </thead>\n",
       "  <tbody>\n",
       "    <tr>\n",
       "      <th>2012-01-01</th>\n",
       "      <td>14.33</td>\n",
       "    </tr>\n",
       "    <tr>\n",
       "      <th>2007-01-01</th>\n",
       "      <td>16.71</td>\n",
       "    </tr>\n",
       "    <tr>\n",
       "      <th>2002-01-01</th>\n",
       "      <td>18.10</td>\n",
       "    </tr>\n",
       "    <tr>\n",
       "      <th>1997-01-01</th>\n",
       "      <td>31.59</td>\n",
       "    </tr>\n",
       "    <tr>\n",
       "      <th>1992-01-01</th>\n",
       "      <td>17.61</td>\n",
       "    </tr>\n",
       "    <tr>\n",
       "      <th>1987-01-01</th>\n",
       "      <td>14.15</td>\n",
       "    </tr>\n",
       "    <tr>\n",
       "      <th>1982-01-01</th>\n",
       "      <td>14.69</td>\n",
       "    </tr>\n",
       "    <tr>\n",
       "      <th>1977-01-01</th>\n",
       "      <td>17.83</td>\n",
       "    </tr>\n",
       "    <tr>\n",
       "      <th>1972-01-01</th>\n",
       "      <td>14.01</td>\n",
       "    </tr>\n",
       "    <tr>\n",
       "      <th>1967-01-01</th>\n",
       "      <td>7.80</td>\n",
       "    </tr>\n",
       "    <tr>\n",
       "      <th>1962-01-01</th>\n",
       "      <td>9.81</td>\n",
       "    </tr>\n",
       "  </tbody>\n",
       "</table>\n",
       "</div>"
      ],
      "text/plain": [
       "            Immigration_Rate_%\n",
       "date                          \n",
       "2012-01-01               14.33\n",
       "2007-01-01               16.71\n",
       "2002-01-01               18.10\n",
       "1997-01-01               31.59\n",
       "1992-01-01               17.61\n",
       "1987-01-01               14.15\n",
       "1982-01-01               14.69\n",
       "1977-01-01               17.83\n",
       "1972-01-01               14.01\n",
       "1967-01-01                7.80\n",
       "1962-01-01                9.81"
      ]
     },
     "execution_count": 10,
     "metadata": {},
     "output_type": "execute_result"
    }
   ],
   "source": [
    "Immigration_Rate_df=Pop_df.copy()\n",
    "Immigration_Rate_df=Immigration_Rate_df.drop('Net migration',axis=1)\n",
    "Immigration_Rate_df=Immigration_Rate_df.drop('Total Population',axis=1)\n",
    "Immigration_Rate_df=Immigration_Rate_df.dropna(axis=0, how='all')\n",
    "Immigration_Rate_df"
   ]
  },
  {
   "cell_type": "markdown",
   "metadata": {},
   "source": [
    "## To get the data on Stock market return (%, year-on-year) as a dataframe"
   ]
  },
  {
   "cell_type": "code",
   "execution_count": 11,
   "metadata": {},
   "outputs": [
    {
     "name": "stdout",
     "output_type": "stream",
     "text": [
      "GFDD.OM.02\tStock market return (%, year-on-year)\n"
     ]
    }
   ],
   "source": [
    "wbdata.search_indicators(\"Stock market return\")"
   ]
  },
  {
   "cell_type": "code",
   "execution_count": 12,
   "metadata": {},
   "outputs": [
    {
     "data": {
      "text/html": [
       "<div>\n",
       "<style scoped>\n",
       "    .dataframe tbody tr th:only-of-type {\n",
       "        vertical-align: middle;\n",
       "    }\n",
       "\n",
       "    .dataframe tbody tr th {\n",
       "        vertical-align: top;\n",
       "    }\n",
       "\n",
       "    .dataframe thead th {\n",
       "        text-align: right;\n",
       "    }\n",
       "</style>\n",
       "<table border=\"1\" class=\"dataframe\">\n",
       "  <thead>\n",
       "    <tr style=\"text-align: right;\">\n",
       "      <th></th>\n",
       "      <th>Stock market return (%, year-on-year)</th>\n",
       "    </tr>\n",
       "    <tr>\n",
       "      <th>date</th>\n",
       "      <th></th>\n",
       "    </tr>\n",
       "  </thead>\n",
       "  <tbody>\n",
       "    <tr>\n",
       "      <th>2015-01-01</th>\n",
       "      <td>6.71</td>\n",
       "    </tr>\n",
       "    <tr>\n",
       "      <th>2014-01-01</th>\n",
       "      <td>17.49</td>\n",
       "    </tr>\n",
       "    <tr>\n",
       "      <th>2013-01-01</th>\n",
       "      <td>19.17</td>\n",
       "    </tr>\n",
       "    <tr>\n",
       "      <th>2012-01-01</th>\n",
       "      <td>8.81</td>\n",
       "    </tr>\n",
       "    <tr>\n",
       "      <th>2011-01-01</th>\n",
       "      <td>11.20</td>\n",
       "    </tr>\n",
       "  </tbody>\n",
       "</table>\n",
       "</div>"
      ],
      "text/plain": [
       "            Stock market return (%, year-on-year)\n",
       "date                                             \n",
       "2015-01-01                                   6.71\n",
       "2014-01-01                                  17.49\n",
       "2013-01-01                                  19.17\n",
       "2012-01-01                                   8.81\n",
       "2011-01-01                                  11.20"
      ]
     },
     "execution_count": 12,
     "metadata": {},
     "output_type": "execute_result"
    }
   ],
   "source": [
    "indicators = {\"GFDD.OM.02\": \"Stock market return (%, year-on-year)\"}\n",
    "Stock_df = wbdata.get_dataframe(indicators, country=\"USA\", convert_date=True)\n",
    "Stock_df.head()"
   ]
  },
  {
   "cell_type": "markdown",
   "metadata": {},
   "source": [
    "## Combining all the three Dataframes"
   ]
  },
  {
   "cell_type": "code",
   "execution_count": 13,
   "metadata": {},
   "outputs": [],
   "source": [
    "GDP_Immigration=GDP_df.merge(Immigration_Rate_df,how='inner', left_index=True, right_index=True)"
   ]
  },
  {
   "cell_type": "code",
   "execution_count": 14,
   "metadata": {},
   "outputs": [
    {
     "data": {
      "text/html": [
       "<div>\n",
       "<style scoped>\n",
       "    .dataframe tbody tr th:only-of-type {\n",
       "        vertical-align: middle;\n",
       "    }\n",
       "\n",
       "    .dataframe tbody tr th {\n",
       "        vertical-align: top;\n",
       "    }\n",
       "\n",
       "    .dataframe thead th {\n",
       "        text-align: right;\n",
       "    }\n",
       "</style>\n",
       "<table border=\"1\" class=\"dataframe\">\n",
       "  <thead>\n",
       "    <tr style=\"text-align: right;\">\n",
       "      <th></th>\n",
       "      <th>GDP per capita growth (annual %)</th>\n",
       "      <th>Immigration_Rate_%</th>\n",
       "      <th>Stock market return (%, year-on-year)</th>\n",
       "    </tr>\n",
       "    <tr>\n",
       "      <th>date</th>\n",
       "      <th></th>\n",
       "      <th></th>\n",
       "      <th></th>\n",
       "    </tr>\n",
       "  </thead>\n",
       "  <tbody>\n",
       "    <tr>\n",
       "      <th>2012-01-01</th>\n",
       "      <td>1.46</td>\n",
       "      <td>14.33</td>\n",
       "      <td>8.81</td>\n",
       "    </tr>\n",
       "    <tr>\n",
       "      <th>2007-01-01</th>\n",
       "      <td>0.82</td>\n",
       "      <td>16.71</td>\n",
       "      <td>12.72</td>\n",
       "    </tr>\n",
       "    <tr>\n",
       "      <th>2002-01-01</th>\n",
       "      <td>0.85</td>\n",
       "      <td>18.10</td>\n",
       "      <td>-16.77</td>\n",
       "    </tr>\n",
       "    <tr>\n",
       "      <th>1997-01-01</th>\n",
       "      <td>3.24</td>\n",
       "      <td>31.59</td>\n",
       "      <td>30.27</td>\n",
       "    </tr>\n",
       "    <tr>\n",
       "      <th>1992-01-01</th>\n",
       "      <td>2.13</td>\n",
       "      <td>17.61</td>\n",
       "      <td>10.52</td>\n",
       "    </tr>\n",
       "    <tr>\n",
       "      <th>1987-01-01</th>\n",
       "      <td>2.54</td>\n",
       "      <td>14.15</td>\n",
       "      <td>21.41</td>\n",
       "    </tr>\n",
       "    <tr>\n",
       "      <th>1982-01-01</th>\n",
       "      <td>-2.84</td>\n",
       "      <td>14.69</td>\n",
       "      <td>-6.51</td>\n",
       "    </tr>\n",
       "    <tr>\n",
       "      <th>1977-01-01</th>\n",
       "      <td>3.56</td>\n",
       "      <td>17.83</td>\n",
       "      <td>-3.78</td>\n",
       "    </tr>\n",
       "    <tr>\n",
       "      <th>1972-01-01</th>\n",
       "      <td>4.14</td>\n",
       "      <td>14.01</td>\n",
       "      <td>11.00</td>\n",
       "    </tr>\n",
       "    <tr>\n",
       "      <th>1967-01-01</th>\n",
       "      <td>1.39</td>\n",
       "      <td>7.80</td>\n",
       "      <td>7.96</td>\n",
       "    </tr>\n",
       "    <tr>\n",
       "      <th>1962-01-01</th>\n",
       "      <td>4.48</td>\n",
       "      <td>9.81</td>\n",
       "      <td>-5.96</td>\n",
       "    </tr>\n",
       "  </tbody>\n",
       "</table>\n",
       "</div>"
      ],
      "text/plain": [
       "            GDP per capita growth (annual %)  Immigration_Rate_%  \\\n",
       "date                                                               \n",
       "2012-01-01                              1.46               14.33   \n",
       "2007-01-01                              0.82               16.71   \n",
       "2002-01-01                              0.85               18.10   \n",
       "1997-01-01                              3.24               31.59   \n",
       "1992-01-01                              2.13               17.61   \n",
       "1987-01-01                              2.54               14.15   \n",
       "1982-01-01                             -2.84               14.69   \n",
       "1977-01-01                              3.56               17.83   \n",
       "1972-01-01                              4.14               14.01   \n",
       "1967-01-01                              1.39                7.80   \n",
       "1962-01-01                              4.48                9.81   \n",
       "\n",
       "            Stock market return (%, year-on-year)  \n",
       "date                                               \n",
       "2012-01-01                                   8.81  \n",
       "2007-01-01                                  12.72  \n",
       "2002-01-01                                 -16.77  \n",
       "1997-01-01                                  30.27  \n",
       "1992-01-01                                  10.52  \n",
       "1987-01-01                                  21.41  \n",
       "1982-01-01                                  -6.51  \n",
       "1977-01-01                                  -3.78  \n",
       "1972-01-01                                  11.00  \n",
       "1967-01-01                                   7.96  \n",
       "1962-01-01                                  -5.96  "
      ]
     },
     "execution_count": 14,
     "metadata": {},
     "output_type": "execute_result"
    }
   ],
   "source": [
    "GDP_Immigration_Stock_df=GDP_Immigration.merge(Stock_df,how='inner', left_index=True, right_index=True)\n",
    "GDP_Immigration_Stock_df"
   ]
  },
  {
   "cell_type": "markdown",
   "metadata": {},
   "source": [
    "## Visualizing the Immigration Rate, GDP and Stock Data"
   ]
  },
  {
   "cell_type": "code",
   "execution_count": 15,
   "metadata": {},
   "outputs": [
    {
     "name": "stdout",
     "output_type": "stream",
     "text": [
      "Populating the interactive namespace from numpy and matplotlib\n"
     ]
    },
    {
     "data": {
      "text/plain": [
       "<matplotlib.axes._subplots.AxesSubplot at 0x139639d0>"
      ]
     },
     "execution_count": 15,
     "metadata": {},
     "output_type": "execute_result"
    },
    {
     "data": {
      "image/png": "[encoded data removed]",
      "text/plain": [
       "<matplotlib.figure.Figure at 0x134b6c50>"
      ]
     },
     "metadata": {},
     "output_type": "display_data"
    }
   ],
   "source": [
    "%pylab inline\n",
    "GDP_Immigration_Stock_df.plot()"
   ]
  },
  {
   "cell_type": "markdown",
   "metadata": {},
   "source": [
    "We can see that GDP is going steady without much fluctuation but there are variations in Immigration Rate and Stock Market.\n",
    "\n",
    "In 1997, due to spike in immigration rate, stock market also increased.\n"
   ]
  },
  {
   "cell_type": "markdown",
   "metadata": {},
   "source": [
    "## Correlation among these datasets"
   ]
  },
  {
   "cell_type": "markdown",
   "metadata": {},
   "source": [
    "**\"Correlation\"** refers to a mutual relationship or association between quantities"
   ]
  },
  {
   "cell_type": "markdown",
   "metadata": {},
   "source": [
    "#### Correlation between GDP and Immigration Rate"
   ]
  },
  {
   "cell_type": "code",
   "execution_count": 16,
   "metadata": {},
   "outputs": [
    {
     "data": {
      "text/plain": [
       "0.08661169821169594"
      ]
     },
     "execution_count": 16,
     "metadata": {},
     "output_type": "execute_result"
    }
   ],
   "source": [
    "GDP_Immigration_Stock_df['GDP per capita growth (annual %)'].corr(GDP_Immigration_Stock_df['Immigration_Rate_%'])"
   ]
  },
  {
   "cell_type": "markdown",
   "metadata": {},
   "source": [
    "#### Correlation between GDP and Stock Market"
   ]
  },
  {
   "cell_type": "code",
   "execution_count": 17,
   "metadata": {},
   "outputs": [
    {
     "data": {
      "text/plain": [
       "0.29177356712520447"
      ]
     },
     "execution_count": 17,
     "metadata": {},
     "output_type": "execute_result"
    }
   ],
   "source": [
    "GDP_Immigration_Stock_df['GDP per capita growth (annual %)'].corr(GDP_Immigration_Stock_df['Stock market return (%, year-on-year)'])"
   ]
  },
  {
   "cell_type": "markdown",
   "metadata": {},
   "source": [
    "We can see that correlation of GDP with stock market is higher than correlation of GDP with immigration rate"
   ]
  },
  {
   "cell_type": "markdown",
   "metadata": {},
   "source": [
    "#### Correlation between Immigration Rate and Stock Market"
   ]
  },
  {
   "cell_type": "code",
   "execution_count": 18,
   "metadata": {},
   "outputs": [
    {
     "data": {
      "text/plain": [
       "0.43017491376750994"
      ]
     },
     "execution_count": 18,
     "metadata": {},
     "output_type": "execute_result"
    }
   ],
   "source": [
    "GDP_Immigration_Stock_df['Immigration_Rate_%'].corr(GDP_Immigration_Stock_df['Stock market return (%, year-on-year)'])"
   ]
  },
  {
   "cell_type": "markdown",
   "metadata": {},
   "source": [
    "We can see the positive correlation among the three columns and that means that they have direct influence on each other."
   ]
  }
 ],
 "metadata": {
  "kernelspec": {
   "display_name": "Python 3",
   "language": "python",
   "name": "python3"
  },
  "language_info": {
   "codemirror_mode": {
    "name": "ipython",
    "version": 3
   },
   "file_extension": ".py",
   "mimetype": "text/x-python",
   "name": "python",
   "nbconvert_exporter": "python",
   "pygments_lexer": "ipython3",
   "version": "3.6.4"
  }
 },
 "nbformat": 4,
 "nbformat_minor": 2
}
